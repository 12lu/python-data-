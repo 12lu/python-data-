{
 "cells": [
  {
   "cell_type": "markdown",
   "metadata": {},
   "source": [
    "import matplotlib.pyplot as plt\n",
    "plt.figure（figsize=(8,8)，dpi=80） #床架一个空白画布 可以指定画布大小和像素  \n",
    "figure.add_subplot(2,1,1)  #创建2*1 个子图 并选择第一个子图\n",
    "plt.title('   ')#添加标题的名称 位置 颜色 字体大小\n",
    "plt.xlabel('')# tianjia x轴名称\n",
    "plt.ylabel('  ')# 添加y轴名称  \n",
    "plt.xlim((0,1))#指定x轴范围\n",
    "plt.ylim((,))\n",
    "plt.xticks([0,0.2,0.4,0.6,0.8,1]) #规定x轴刻度\n",
    "plt.yticks([  ])\n",
    "#绘制折线图 plt.plot(x,y,color='r',linr=estyle='--')\n",
    "plt.plot(data , 表达式(about data ))\n",
    "plt.legend(['',''])#指定当前图形的图例，可以指定图例的大小、位置、标签\n",
    "plt.savefig(' 添加位置')\n",
    "plt.show()\n",
    "\n",
    "plt.rcParams['lines.linestyle']='-'#xiugai线的样式\n",
    "plt.rcParams['lines.linewidth']= 3 #指定线的粗细\n",
    "lines.marker='o'   #线条上点的形状\n",
    "lines.markersize=1 #(0~10) 点的大小\n",
    "plt.rcParams['font.sans-serif'] = 'SimHei' #设置字体为SimHei显示中文 \n",
    "plt.rcParams['axes.unicode_minus'] = False #设置正常显示符号\n",
    "\n",
    "#散点图\n",
    "plt.catter(x,y,marker=None,c='red') # x ，y为数据组\n",
    "\n",
    "#折线图和散点图  散点图主要分析特征之间的相互关系  折线图用于分析自变量特征和因变量特征之间的趋势关系\n",
    "\n",
    "\n",
    "# 直方图:特征内部数据的数量情况： \n",
    "plt.bar(x,y,,width=0.5)#width 直方图的宽度\n",
    "\n",
    "#饼图：反应部分与部分部分与整体的比例关系，直观\n",
    "plt.pie(x,explode= ，labels= ,autopct='%1.1f%%')  # explode 是指定项距离饼图圆心为n个半径 labels为每一项的名称 autopct为熟知的显示方式\n",
    "\n",
    "#箱线图：能提供有关数据位置和分散情况，尤其在比较不同特征时，更可表现其分散程度差异。\n",
    "plt.boxplot(x,notch=True,labels= , meanline=True)# notch 表示中间箱体是否有缺口默认none meanline表示是否显示均线默认False"
   ]
  },
  {
   "cell_type": "code",
   "execution_count": null,
   "metadata": {
    "collapsed": true
   },
   "outputs": [],
   "source": []
  }
 ],
 "metadata": {
  "kernelspec": {
   "display_name": "Python 3",
   "language": "python",
   "name": "python3"
  },
  "language_info": {
   "codemirror_mode": {
    "name": "ipython",
    "version": 3
   },
   "file_extension": ".py",
   "mimetype": "text/x-python",
   "name": "python",
   "nbconvert_exporter": "python",
   "pygments_lexer": "ipython3",
   "version": "3.6.6"
  }
 },
 "nbformat": 4,
 "nbformat_minor": 2
}
